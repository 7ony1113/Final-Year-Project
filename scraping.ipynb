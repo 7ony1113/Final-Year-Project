{
 "cells": [
  {
   "cell_type": "code",
   "execution_count": 2,
   "metadata": {},
   "outputs": [
    {
     "name": "stdout",
     "output_type": "stream",
     "text": [
      "{'Charlotte Hornets': 'Indiana Pacers', 'Cleveland Cavaliers': 'Philadelphia 76ers', 'Atlanta Hawks': 'Chicago Bulls', 'Toronto Raptors': 'San Antonio Spurs', 'Houston Rockets': 'New York Knicks', 'Memphis Grizzlies': 'New Orleans Pelicans', 'Milwaukee Bucks': 'Denver Nuggets', 'Dallas Mavericks': 'Washington Wizards', 'Utah Jazz': 'Golden State Warriors', 'Los Angeles Clippers': 'Minnesota Timberwolves'}\n",
      "[{'Charlotte Hornets': 'Indiana Pacers', 'Cleveland Cavaliers': 'Philadelphia 76ers', 'Toronto Raptors': 'San Antonio Spurs', 'Memphis Grizzlies': 'New Orleans Pelicans', 'Milwaukee Bucks': 'Denver Nuggets', 'Houston Rockets': 'New York Knicks', 'Dallas Mavericks': 'Washington Wizards', 'Utah Jazz': 'Golden State Warriors', 'Atlanta Hawks': 'Chicago Bulls', 'LA Clippers': 'Minnesota Timberwolves'}, ['W', 'L', 'L', 'L', 'W', 'W', 'W', 'L', 'L', 'L'], [111, 102, 121, 123, 99, 122, 87, 96, 112, 95, 105, 103, 112, 104, 107, 129, 126, 136, 100, 121], ['0022300761', '0022300762', '0022300764', '0022300766', '0022300767', '0022300765', '0022300768', '0022300769', '0022300763', '0022300770']]\n"
     ]
    }
   ],
   "source": [
    "from get import get_daily_matches, get_match_results\n",
    "print(get_daily_matches('02/12/24'))\n",
    "print(get_match_results('02/12/24', '2023-24'))"
   ]
  }
 ],
 "metadata": {
  "kernelspec": {
   "display_name": "Python 3",
   "language": "python",
   "name": "python3"
  },
  "language_info": {
   "codemirror_mode": {
    "name": "ipython",
    "version": 3
   },
   "file_extension": ".py",
   "mimetype": "text/x-python",
   "name": "python",
   "nbconvert_exporter": "python",
   "pygments_lexer": "ipython3",
   "version": "3.8.7"
  }
 },
 "nbformat": 4,
 "nbformat_minor": 2
}
