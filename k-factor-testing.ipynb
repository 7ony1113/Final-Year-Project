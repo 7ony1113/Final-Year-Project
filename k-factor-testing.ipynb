{
 "cells": [
  {
   "cell_type": "code",
   "execution_count": null,
   "metadata": {},
   "outputs": [],
   "source": [
    "import pandas as pd\n",
    "filename = 'nba_elo_latest.csv'\n",
    "df = pd.read_csv(filename)\n",
    "print(df.head()) "
   ]
  },
  {
   "cell_type": "code",
   "execution_count": null,
   "metadata": {},
   "outputs": [],
   "source": [
    "df['game_id']=range(1,len(df)+1) #Create a new column for Game IDs\n",
    "df=df[['game_id','home','away','elo1_pre_home','elo2_pre_away','home_score','away_score']]\n",
    "df"
   ]
  },
  {
   "cell_type": "code",
   "execution_count": null,
   "metadata": {},
   "outputs": [],
   "source": [
    "import numpy as np\n",
    "df['win']=np.where(df['home_score']>df['away_score'],1,0) #Create a new column for game result\n",
    "df['diff']=np.where((df['home_score']-df['away_score'])<0,-1*(df['home_score']-df['away_score']),df['home_score']-df['away_score']) #Create a new column for modulus of the difference between the scores\n",
    "df['d']=np.where(df['win']==1,df['elo1_pre_home']-df['elo2_pre_away']+100,df['elo2_pre_away']-df['elo1_pre_home']-100) #Create a new column to find the difference between the ELO Ratings of the 2 teams inclusive of the home team advantage\n",
    "df['mov']=(df['diff']+3)**0.8/(7.5+(0.006*df['d'])) #Create a new column for the Margin of Victory\n",
    "df['K']=df['mov']*40 #Created a new column for the adjusted K factor that includes the Margin of Victory\n",
    "df['elo_prob_home']=1/(1+10**((df['elo2_pre_away']-df['elo1_pre_home']-100)/400)) #Win Probability for the Home Team.\n",
    "df['elo_prob_away']=1-df['elo_prob_home'] #Win Probability for the Away Team\n",
    "df['elo1_post_home']=np.where(df['win']==1,df['elo1_pre_home']+df['K']*(1-df['elo_prob_home']),df['elo1_pre_home']+df['K']*(0-df['elo_prob_home'])) #Find New ELO Rating for Home Team based on Game Result\n",
    "df['elo2_post_away']=np.where(df['win']==0,df['elo2_pre_away']+df['K']*(1-df['elo_prob_away']),df['elo2_pre_away']+df['K']*(0-df['elo_prob_away'])) #Find New ELO Rating for Away Team based on Game Result\n",
    "df"
   ]
  },
  {
   "cell_type": "code",
   "execution_count": null,
   "metadata": {},
   "outputs": [],
   "source": [
    "df=df[['game_id','home','away','elo1_pre_home','elo2_pre_away','home_score','away_score','elo_prob_home','elo_prob_away','elo1_post_home','elo2_post_away']]\n",
    "#Find Home Games\n",
    "home=df.groupby(['game_id','home','away','elo1_pre_home','elo2_pre_away','home_score','away_score','elo_prob_home','elo_prob_away','elo1_post_home','elo2_post_away']).sum().reset_index()\n",
    "home.rename(columns={'home':'team','away':'opp','elo1_pre_home':'elo_pre_team','elo2_pre_away':'elo_pre_opp','elo_prob_home':'elo_prob_team','elo_prob_away':'elo_prob_opp','elo1_post_home':'elo_post_team','elo2_post_away':'elo_post_opp','home_score':'pts_for','away_score':'pts_agn'},inplace=True)\n",
    "home['win']=np.where(home['pts_for']>home['pts_agn'],1,0) #Flag Variable for Game Result. 1 for Win and 0 for Loss\n",
    "home['home']=1 #Flag Variable to identify that the team in question is playing at home\n",
    "home\n",
    "\n",
    "#Find Away Games\n",
    "away=df.groupby(['game_id','home','away','elo1_pre_home','elo2_pre_away','home_score','away_score','elo_prob_home','elo_prob_away','elo1_post_home','elo2_post_away']).sum().reset_index()\n",
    "away.rename(columns={'home':'opp','away':'team','elo1_pre_home':'elo_pre_opp','elo2_pre_away':'elo_pre_team','elo_prob_home':'elo_prob_opp','elo_prob_away':'elo_prob_team','elo1_post_home':'elo_post_opp','elo2_post_away':'elo_post_team','home_score':'pts_agn','away_score':'pts_for'},inplace=True)\n",
    "away['win']=np.where(away['pts_for']>away['pts_agn'],1,0) #Flag Variable for Game Result. 1 for Win and 0 for Loss\n",
    "away['home']=0 #Flag Variable to identify that the team in question is playing away\n",
    "away"
   ]
  },
  {
   "cell_type": "code",
   "execution_count": null,
   "metadata": {},
   "outputs": [],
   "source": [
    "final=pd.concat([home,away]).reset_index() #Concatenate the Home and Away Data Frames\n",
    "final.drop(['index'],axis=1,inplace=True)\n",
    "final\n",
    "final['elo_win']=np.where(final['elo_prob_team']>final['elo_prob_opp'],1,0) #A Game Result is a Win if the Probability of a Team winning the game is greater than that of the Opposition."
   ]
  },
  {
   "cell_type": "code",
   "execution_count": null,
   "metadata": {},
   "outputs": [],
   "source": [
    "gsw=final.loc[final['team']=='GSW'].sort_values(by=['game_id']) #Identify only Golden State Warriors Matches and sort them in ascending order of game id\n",
    "gsw_elo=[1529.010908] #Create a list of ELO Ratings and initalize the list with GSW's ELO Rating prior to the start of the first game\n",
    "l=list(gsw['elo_post_team']) #Convert the ELO Ratings of GSW at the end of every game into a list named l\n",
    "for i in l:\n",
    "  gsw_elo.append(i) #Append the ELO Ratings at the end of every game to the gsw_elo list\n",
    "\n",
    "gsw_elo_roundedup=[round(num) for num in gsw_elo] #Round off the values in this list to the nearest whole number\n",
    "\n",
    "gsw_dict={'gsw_game_id':list(range(0,len(gsw_elo))) , 'ELO_Rating':gsw_elo_roundedup} #Create a Dictionary with 2 keys. The first key holds a new set of game ids starting from zero to indicate ascending order of only GSW's games\n",
    "#The second key contains the ELO Ratings of GSW for the corresponding gameids\n",
    "gsw_dict\n",
    "\n",
    "gsw_df=pd.DataFrame(data=gsw_dict) #Convert Dictionary to a Data Frame\n",
    "gsw_df"
   ]
  },
  {
   "cell_type": "code",
   "execution_count": null,
   "metadata": {},
   "outputs": [],
   "source": [
    "#Graph Out the Variation of GSW's ELO Rating\n",
    "#Consider the ELO Rating at Game ID 0 to be GSW's initial ELO rating at the beginning of the season prior to playing any game\n",
    "import plotly.express as px\n",
    "\n",
    "\n",
    "fig = px.line(gsw_df, x=\"gsw_game_id\", y=\"ELO_Rating\",markers=True)\n",
    "fig.update_traces(textposition=\"bottom right\")\n",
    "fig.update_layout(title='Variation of ELO Rating of the Golden State Warriors over the Course of the Season',\n",
    "                   xaxis_title='Games',\n",
    "                   yaxis_title='ELO Rating')\n",
    "fig.show()"
   ]
  }
 ],
 "metadata": {
  "kernelspec": {
   "display_name": "Python 3",
   "language": "python",
   "name": "python3"
  },
  "language_info": {
   "name": "python",
   "version": "3.8.7"
  }
 },
 "nbformat": 4,
 "nbformat_minor": 2
}
