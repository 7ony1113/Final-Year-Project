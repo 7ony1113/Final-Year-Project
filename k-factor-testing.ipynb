{
 "cells": [
  {
   "cell_type": "code",
   "execution_count": 25,
   "metadata": {},
   "outputs": [
    {
     "data": {
      "application/vnd.plotly.v1+json": {
       "config": {
        "plotlyServerURL": "https://plot.ly"
       },
       "data": [
        {
         "hovertemplate": "gsw_game_id=%{x}<br>ELO_Rating=%{y}<extra></extra>",
         "legendgroup": "",
         "line": {
          "color": "#636efa",
          "dash": "solid"
         },
         "marker": {
          "symbol": "circle"
         },
         "mode": "markers+lines",
         "name": "",
         "orientation": "v",
         "showlegend": false,
         "textposition": "bottom right",
         "type": "scatter",
         "x": [
          0,
          1,
          2,
          3,
          4,
          5,
          6,
          7,
          8,
          9,
          10,
          11,
          12,
          13,
          14,
          15,
          16,
          17,
          18,
          19,
          20,
          21,
          22,
          23,
          24,
          25,
          26,
          27,
          28,
          29,
          30,
          31,
          32,
          33,
          34,
          35,
          36,
          37,
          38,
          39,
          40,
          41,
          42,
          43,
          44,
          45,
          46,
          47,
          48,
          49,
          50,
          51,
          52,
          53,
          54,
          55,
          56,
          57,
          58,
          59,
          60,
          61,
          62,
          63,
          64,
          65,
          66,
          67,
          68,
          69,
          70,
          71,
          72,
          73,
          74,
          75,
          76,
          77,
          78,
          79,
          80,
          81,
          82,
          83,
          84,
          85,
          86,
          87,
          88,
          89,
          90,
          91,
          92,
          93,
          94,
          95,
          96,
          97,
          98,
          99,
          100,
          101,
          102,
          103,
          104
         ],
         "xaxis": "x",
         "y": [
          1529,
          1541,
          1546,
          1558,
          1562,
          1554,
          1557,
          1565,
          1575,
          1577,
          1584,
          1587,
          1599,
          1591,
          1614,
          1624,
          1627,
          1631,
          1641,
          1647,
          1662,
          1657,
          1672,
          1656,
          1659,
          1661,
          1652,
          1656,
          1664,
          1669,
          1649,
          1651,
          1655,
          1671,
          1660,
          1673,
          1676,
          1659,
          1649,
          1655,
          1648,
          1634,
          1664,
          1645,
          1647,
          1633,
          1634,
          1637,
          1651,
          1655,
          1658,
          1662,
          1666,
          1667,
          1672,
          1654,
          1643,
          1644,
          1628,
          1621,
          1639,
          1627,
          1614,
          1608,
          1596,
          1590,
          1596,
          1612,
          1619,
          1622,
          1600,
          1590,
          1580,
          1599,
          1589,
          1576,
          1567,
          1562,
          1566,
          1578,
          1582,
          1590,
          1610,
          1617,
          1625,
          1632,
          1625,
          1628,
          1634,
          1629,
          1645,
          1648,
          1629,
          1638,
          1653,
          1659,
          1672,
          1664,
          1670,
          1657,
          1674,
          1667,
          1685,
          1694,
          1712
         ],
         "yaxis": "y"
        }
       ],
       "layout": {
        "legend": {
         "tracegroupgap": 0
        },
        "margin": {
         "t": 60
        },
        "template": {
         "data": {
          "bar": [
           {
            "error_x": {
             "color": "#2a3f5f"
            },
            "error_y": {
             "color": "#2a3f5f"
            },
            "marker": {
             "line": {
              "color": "#E5ECF6",
              "width": 0.5
             },
             "pattern": {
              "fillmode": "overlay",
              "size": 10,
              "solidity": 0.2
             }
            },
            "type": "bar"
           }
          ],
          "barpolar": [
           {
            "marker": {
             "line": {
              "color": "#E5ECF6",
              "width": 0.5
             },
             "pattern": {
              "fillmode": "overlay",
              "size": 10,
              "solidity": 0.2
             }
            },
            "type": "barpolar"
           }
          ],
          "carpet": [
           {
            "aaxis": {
             "endlinecolor": "#2a3f5f",
             "gridcolor": "white",
             "linecolor": "white",
             "minorgridcolor": "white",
             "startlinecolor": "#2a3f5f"
            },
            "baxis": {
             "endlinecolor": "#2a3f5f",
             "gridcolor": "white",
             "linecolor": "white",
             "minorgridcolor": "white",
             "startlinecolor": "#2a3f5f"
            },
            "type": "carpet"
           }
          ],
          "choropleth": [
           {
            "colorbar": {
             "outlinewidth": 0,
             "ticks": ""
            },
            "type": "choropleth"
           }
          ],
          "contour": [
           {
            "colorbar": {
             "outlinewidth": 0,
             "ticks": ""
            },
            "colorscale": [
             [
              0,
              "#0d0887"
             ],
             [
              0.1111111111111111,
              "#46039f"
             ],
             [
              0.2222222222222222,
              "#7201a8"
             ],
             [
              0.3333333333333333,
              "#9c179e"
             ],
             [
              0.4444444444444444,
              "#bd3786"
             ],
             [
              0.5555555555555556,
              "#d8576b"
             ],
             [
              0.6666666666666666,
              "#ed7953"
             ],
             [
              0.7777777777777778,
              "#fb9f3a"
             ],
             [
              0.8888888888888888,
              "#fdca26"
             ],
             [
              1,
              "#f0f921"
             ]
            ],
            "type": "contour"
           }
          ],
          "contourcarpet": [
           {
            "colorbar": {
             "outlinewidth": 0,
             "ticks": ""
            },
            "type": "contourcarpet"
           }
          ],
          "heatmap": [
           {
            "colorbar": {
             "outlinewidth": 0,
             "ticks": ""
            },
            "colorscale": [
             [
              0,
              "#0d0887"
             ],
             [
              0.1111111111111111,
              "#46039f"
             ],
             [
              0.2222222222222222,
              "#7201a8"
             ],
             [
              0.3333333333333333,
              "#9c179e"
             ],
             [
              0.4444444444444444,
              "#bd3786"
             ],
             [
              0.5555555555555556,
              "#d8576b"
             ],
             [
              0.6666666666666666,
              "#ed7953"
             ],
             [
              0.7777777777777778,
              "#fb9f3a"
             ],
             [
              0.8888888888888888,
              "#fdca26"
             ],
             [
              1,
              "#f0f921"
             ]
            ],
            "type": "heatmap"
           }
          ],
          "heatmapgl": [
           {
            "colorbar": {
             "outlinewidth": 0,
             "ticks": ""
            },
            "colorscale": [
             [
              0,
              "#0d0887"
             ],
             [
              0.1111111111111111,
              "#46039f"
             ],
             [
              0.2222222222222222,
              "#7201a8"
             ],
             [
              0.3333333333333333,
              "#9c179e"
             ],
             [
              0.4444444444444444,
              "#bd3786"
             ],
             [
              0.5555555555555556,
              "#d8576b"
             ],
             [
              0.6666666666666666,
              "#ed7953"
             ],
             [
              0.7777777777777778,
              "#fb9f3a"
             ],
             [
              0.8888888888888888,
              "#fdca26"
             ],
             [
              1,
              "#f0f921"
             ]
            ],
            "type": "heatmapgl"
           }
          ],
          "histogram": [
           {
            "marker": {
             "pattern": {
              "fillmode": "overlay",
              "size": 10,
              "solidity": 0.2
             }
            },
            "type": "histogram"
           }
          ],
          "histogram2d": [
           {
            "colorbar": {
             "outlinewidth": 0,
             "ticks": ""
            },
            "colorscale": [
             [
              0,
              "#0d0887"
             ],
             [
              0.1111111111111111,
              "#46039f"
             ],
             [
              0.2222222222222222,
              "#7201a8"
             ],
             [
              0.3333333333333333,
              "#9c179e"
             ],
             [
              0.4444444444444444,
              "#bd3786"
             ],
             [
              0.5555555555555556,
              "#d8576b"
             ],
             [
              0.6666666666666666,
              "#ed7953"
             ],
             [
              0.7777777777777778,
              "#fb9f3a"
             ],
             [
              0.8888888888888888,
              "#fdca26"
             ],
             [
              1,
              "#f0f921"
             ]
            ],
            "type": "histogram2d"
           }
          ],
          "histogram2dcontour": [
           {
            "colorbar": {
             "outlinewidth": 0,
             "ticks": ""
            },
            "colorscale": [
             [
              0,
              "#0d0887"
             ],
             [
              0.1111111111111111,
              "#46039f"
             ],
             [
              0.2222222222222222,
              "#7201a8"
             ],
             [
              0.3333333333333333,
              "#9c179e"
             ],
             [
              0.4444444444444444,
              "#bd3786"
             ],
             [
              0.5555555555555556,
              "#d8576b"
             ],
             [
              0.6666666666666666,
              "#ed7953"
             ],
             [
              0.7777777777777778,
              "#fb9f3a"
             ],
             [
              0.8888888888888888,
              "#fdca26"
             ],
             [
              1,
              "#f0f921"
             ]
            ],
            "type": "histogram2dcontour"
           }
          ],
          "mesh3d": [
           {
            "colorbar": {
             "outlinewidth": 0,
             "ticks": ""
            },
            "type": "mesh3d"
           }
          ],
          "parcoords": [
           {
            "line": {
             "colorbar": {
              "outlinewidth": 0,
              "ticks": ""
             }
            },
            "type": "parcoords"
           }
          ],
          "pie": [
           {
            "automargin": true,
            "type": "pie"
           }
          ],
          "scatter": [
           {
            "fillpattern": {
             "fillmode": "overlay",
             "size": 10,
             "solidity": 0.2
            },
            "type": "scatter"
           }
          ],
          "scatter3d": [
           {
            "line": {
             "colorbar": {
              "outlinewidth": 0,
              "ticks": ""
             }
            },
            "marker": {
             "colorbar": {
              "outlinewidth": 0,
              "ticks": ""
             }
            },
            "type": "scatter3d"
           }
          ],
          "scattercarpet": [
           {
            "marker": {
             "colorbar": {
              "outlinewidth": 0,
              "ticks": ""
             }
            },
            "type": "scattercarpet"
           }
          ],
          "scattergeo": [
           {
            "marker": {
             "colorbar": {
              "outlinewidth": 0,
              "ticks": ""
             }
            },
            "type": "scattergeo"
           }
          ],
          "scattergl": [
           {
            "marker": {
             "colorbar": {
              "outlinewidth": 0,
              "ticks": ""
             }
            },
            "type": "scattergl"
           }
          ],
          "scattermapbox": [
           {
            "marker": {
             "colorbar": {
              "outlinewidth": 0,
              "ticks": ""
             }
            },
            "type": "scattermapbox"
           }
          ],
          "scatterpolar": [
           {
            "marker": {
             "colorbar": {
              "outlinewidth": 0,
              "ticks": ""
             }
            },
            "type": "scatterpolar"
           }
          ],
          "scatterpolargl": [
           {
            "marker": {
             "colorbar": {
              "outlinewidth": 0,
              "ticks": ""
             }
            },
            "type": "scatterpolargl"
           }
          ],
          "scatterternary": [
           {
            "marker": {
             "colorbar": {
              "outlinewidth": 0,
              "ticks": ""
             }
            },
            "type": "scatterternary"
           }
          ],
          "surface": [
           {
            "colorbar": {
             "outlinewidth": 0,
             "ticks": ""
            },
            "colorscale": [
             [
              0,
              "#0d0887"
             ],
             [
              0.1111111111111111,
              "#46039f"
             ],
             [
              0.2222222222222222,
              "#7201a8"
             ],
             [
              0.3333333333333333,
              "#9c179e"
             ],
             [
              0.4444444444444444,
              "#bd3786"
             ],
             [
              0.5555555555555556,
              "#d8576b"
             ],
             [
              0.6666666666666666,
              "#ed7953"
             ],
             [
              0.7777777777777778,
              "#fb9f3a"
             ],
             [
              0.8888888888888888,
              "#fdca26"
             ],
             [
              1,
              "#f0f921"
             ]
            ],
            "type": "surface"
           }
          ],
          "table": [
           {
            "cells": {
             "fill": {
              "color": "#EBF0F8"
             },
             "line": {
              "color": "white"
             }
            },
            "header": {
             "fill": {
              "color": "#C8D4E3"
             },
             "line": {
              "color": "white"
             }
            },
            "type": "table"
           }
          ]
         },
         "layout": {
          "annotationdefaults": {
           "arrowcolor": "#2a3f5f",
           "arrowhead": 0,
           "arrowwidth": 1
          },
          "autotypenumbers": "strict",
          "coloraxis": {
           "colorbar": {
            "outlinewidth": 0,
            "ticks": ""
           }
          },
          "colorscale": {
           "diverging": [
            [
             0,
             "#8e0152"
            ],
            [
             0.1,
             "#c51b7d"
            ],
            [
             0.2,
             "#de77ae"
            ],
            [
             0.3,
             "#f1b6da"
            ],
            [
             0.4,
             "#fde0ef"
            ],
            [
             0.5,
             "#f7f7f7"
            ],
            [
             0.6,
             "#e6f5d0"
            ],
            [
             0.7,
             "#b8e186"
            ],
            [
             0.8,
             "#7fbc41"
            ],
            [
             0.9,
             "#4d9221"
            ],
            [
             1,
             "#276419"
            ]
           ],
           "sequential": [
            [
             0,
             "#0d0887"
            ],
            [
             0.1111111111111111,
             "#46039f"
            ],
            [
             0.2222222222222222,
             "#7201a8"
            ],
            [
             0.3333333333333333,
             "#9c179e"
            ],
            [
             0.4444444444444444,
             "#bd3786"
            ],
            [
             0.5555555555555556,
             "#d8576b"
            ],
            [
             0.6666666666666666,
             "#ed7953"
            ],
            [
             0.7777777777777778,
             "#fb9f3a"
            ],
            [
             0.8888888888888888,
             "#fdca26"
            ],
            [
             1,
             "#f0f921"
            ]
           ],
           "sequentialminus": [
            [
             0,
             "#0d0887"
            ],
            [
             0.1111111111111111,
             "#46039f"
            ],
            [
             0.2222222222222222,
             "#7201a8"
            ],
            [
             0.3333333333333333,
             "#9c179e"
            ],
            [
             0.4444444444444444,
             "#bd3786"
            ],
            [
             0.5555555555555556,
             "#d8576b"
            ],
            [
             0.6666666666666666,
             "#ed7953"
            ],
            [
             0.7777777777777778,
             "#fb9f3a"
            ],
            [
             0.8888888888888888,
             "#fdca26"
            ],
            [
             1,
             "#f0f921"
            ]
           ]
          },
          "colorway": [
           "#636efa",
           "#EF553B",
           "#00cc96",
           "#ab63fa",
           "#FFA15A",
           "#19d3f3",
           "#FF6692",
           "#B6E880",
           "#FF97FF",
           "#FECB52"
          ],
          "font": {
           "color": "#2a3f5f"
          },
          "geo": {
           "bgcolor": "white",
           "lakecolor": "white",
           "landcolor": "#E5ECF6",
           "showlakes": true,
           "showland": true,
           "subunitcolor": "white"
          },
          "hoverlabel": {
           "align": "left"
          },
          "hovermode": "closest",
          "mapbox": {
           "style": "light"
          },
          "paper_bgcolor": "white",
          "plot_bgcolor": "#E5ECF6",
          "polar": {
           "angularaxis": {
            "gridcolor": "white",
            "linecolor": "white",
            "ticks": ""
           },
           "bgcolor": "#E5ECF6",
           "radialaxis": {
            "gridcolor": "white",
            "linecolor": "white",
            "ticks": ""
           }
          },
          "scene": {
           "xaxis": {
            "backgroundcolor": "#E5ECF6",
            "gridcolor": "white",
            "gridwidth": 2,
            "linecolor": "white",
            "showbackground": true,
            "ticks": "",
            "zerolinecolor": "white"
           },
           "yaxis": {
            "backgroundcolor": "#E5ECF6",
            "gridcolor": "white",
            "gridwidth": 2,
            "linecolor": "white",
            "showbackground": true,
            "ticks": "",
            "zerolinecolor": "white"
           },
           "zaxis": {
            "backgroundcolor": "#E5ECF6",
            "gridcolor": "white",
            "gridwidth": 2,
            "linecolor": "white",
            "showbackground": true,
            "ticks": "",
            "zerolinecolor": "white"
           }
          },
          "shapedefaults": {
           "line": {
            "color": "#2a3f5f"
           }
          },
          "ternary": {
           "aaxis": {
            "gridcolor": "white",
            "linecolor": "white",
            "ticks": ""
           },
           "baxis": {
            "gridcolor": "white",
            "linecolor": "white",
            "ticks": ""
           },
           "bgcolor": "#E5ECF6",
           "caxis": {
            "gridcolor": "white",
            "linecolor": "white",
            "ticks": ""
           }
          },
          "title": {
           "x": 0.05
          },
          "xaxis": {
           "automargin": true,
           "gridcolor": "white",
           "linecolor": "white",
           "ticks": "",
           "title": {
            "standoff": 15
           },
           "zerolinecolor": "white",
           "zerolinewidth": 2
          },
          "yaxis": {
           "automargin": true,
           "gridcolor": "white",
           "linecolor": "white",
           "ticks": "",
           "title": {
            "standoff": 15
           },
           "zerolinecolor": "white",
           "zerolinewidth": 2
          }
         }
        },
        "title": {
         "text": "Variation of ELO Rating of the Golden State Warriors over the Course of the Season"
        },
        "xaxis": {
         "anchor": "y",
         "domain": [
          0,
          1
         ],
         "title": {
          "text": "Games"
         }
        },
        "yaxis": {
         "anchor": "x",
         "domain": [
          0,
          1
         ],
         "title": {
          "text": "ELO Rating"
         }
        }
       }
      }
     },
     "metadata": {},
     "output_type": "display_data"
    }
   ],
   "source": [
    "import pandas as pd\n",
    "import numpy as np\n",
    "filename = 'nba_elo_latest.csv'\n",
    "df = pd.read_csv(filename)\n",
    "df['game_id']=range(1,len(df)+1) #Create a new column for Game IDs\n",
    "df=df[['game_id','home','away','elo1_pre_home','elo2_pre_away','home_score','away_score']]\n",
    "\n",
    "\n",
    "df['win']=np.where(df['home_score']>df['away_score'],1,0) #Create a new column for game result\n",
    "df['diff']=np.where((df['home_score']-df['away_score'])<0,-1*(df['home_score']-df['away_score']),df['home_score']-df['away_score']) #Create a new column for modulus of the difference between the scores\n",
    "df['d']=np.where(df['win']==1,df['elo1_pre_home']-df['elo2_pre_away']+100,df['elo2_pre_away']-df['elo1_pre_home']-100) #Create a new column to find the difference between the ELO Ratings of the 2 teams inclusive of the home team advantage\n",
    "df['mov']=(df['diff']+3)**0.8/(7.5+(0.006*df['d'])) #Create a new column for the Margin of Victory\n",
    "df['K']=df['mov']*20 #Created a new column for the adjusted K factor that includes the Margin of Victory\n",
    "df['elo_prob_home']=1/(1+10**((df['elo2_pre_away']-df['elo1_pre_home']-100)/400)) #Win Probability for the Home Team.\n",
    "df['elo_prob_away']=1-df['elo_prob_home'] #Win Probability for the Away Team\n",
    "df['elo1_post_home']=np.where(df['win']==1,df['elo1_pre_home']+df['K']*(1-df['elo_prob_home']),df['elo1_pre_home']+df['K']*(0-df['elo_prob_home'])) #Find New ELO Rating for Home Team based on Game Result\n",
    "df['elo2_post_away']=np.where(df['win']==0,df['elo2_pre_away']+df['K']*(1-df['elo_prob_away']),df['elo2_pre_away']+df['K']*(0-df['elo_prob_away'])) #Find New ELO Rating for Away Team based on Game Result\n",
    "\n",
    "df=df[['game_id','home','away','elo1_pre_home','elo2_pre_away','home_score','away_score','elo_prob_home','elo_prob_away','elo1_post_home','elo2_post_away']]\n",
    "#Find Home Games\n",
    "home=df.groupby(['game_id','home','away','elo1_pre_home','elo2_pre_away','home_score','away_score','elo_prob_home','elo_prob_away','elo1_post_home','elo2_post_away']).sum().reset_index()\n",
    "home.rename(columns={'home':'team','away':'opp','elo1_pre_home':'elo_pre_team','elo2_pre_away':'elo_pre_opp','elo_prob_home':'elo_prob_team','elo_prob_away':'elo_prob_opp','elo1_post_home':'elo_post_team','elo2_post_away':'elo_post_opp','home_score':'pts_for','away_score':'pts_agn'},inplace=True)\n",
    "home['win']=np.where(home['pts_for']>home['pts_agn'],1,0) #Flag Variable for Game Result. 1 for Win and 0 for Loss\n",
    "home['home']=1 #Flag Variable to identify that the team in question is playing at home\n",
    "\n",
    "#Find Away Games\n",
    "away=df.groupby(['game_id','home','away','elo1_pre_home','elo2_pre_away','home_score','away_score','elo_prob_home','elo_prob_away','elo1_post_home','elo2_post_away']).sum().reset_index()\n",
    "away.rename(columns={'home':'opp','away':'team','elo1_pre_home':'elo_pre_opp','elo2_pre_away':'elo_pre_team','elo_prob_home':'elo_prob_opp','elo_prob_away':'elo_prob_team','elo1_post_home':'elo_post_opp','elo2_post_away':'elo_post_team','home_score':'pts_agn','away_score':'pts_for'},inplace=True)\n",
    "away['win']=np.where(away['pts_for']>away['pts_agn'],1,0) #Flag Variable for Game Result. 1 for Win and 0 for Loss\n",
    "away['home']=0 #Flag Variable to identify that the team in question is playing away\n",
    "\n",
    "final=pd.concat([home,away]).reset_index() #Concatenate the Home and Away Data Frames\n",
    "final.drop(['index'],axis=1,inplace=True)\n",
    "final['elo_win']=np.where(final['elo_prob_team']>final['elo_prob_opp'],1,0) #A Game Result is a Win if the Probability of a Team winning the game is greater than that of the Opposition.\n",
    "gsw=final.loc[final['team']=='GSW'].sort_values(by=['game_id']) #Identify only Golden State Warriors Matches and sort them in ascending order of game id\n",
    "gsw_elo=[1529.010908] #Create a list of ELO Ratings and initalize the list with GSW's ELO Rating prior to the start of the first game\n",
    "l=list(gsw['elo_post_team']) #Convert the ELO Ratings of GSW at the end of every game into a list named l\n",
    "for i in l:\n",
    "  gsw_elo.append(i) #Append the ELO Ratings at the end of every game to the gsw_elo list\n",
    "\n",
    "gsw_elo_roundedup=[round(num) for num in gsw_elo] #Round off the values in this list to the nearest whole number\n",
    "\n",
    "gsw_dict={'gsw_game_id':list(range(0,len(gsw_elo))) , 'ELO_Rating':gsw_elo_roundedup} #Create a Dictionary with 2 keys. The first key holds a new set of game ids starting from zero to indicate ascending order of only GSW's games\n",
    "#The second key contains the ELO Ratings of GSW for the corresponding gameids\n",
    "\n",
    "gsw_df=pd.DataFrame(data=gsw_dict) #Convert Dictionary to a Data Frame\n",
    "\n",
    "#Graph Out the Variation of GSW's ELO Rating\n",
    "#Consider the ELO Rating at Game ID 0 to be GSW's initial ELO rating at the beginning of the season prior to playing any game\n",
    "import plotly.express as px\n",
    "\n",
    "\n",
    "fig = px.line(gsw_df, x=\"gsw_game_id\", y=\"ELO_Rating\",markers=True)\n",
    "fig.update_traces(textposition=\"bottom right\")\n",
    "fig.update_layout(title='Variation of ELO Rating of the Golden State Warriors over the Course of the Season',\n",
    "                   xaxis_title='Games',\n",
    "                   yaxis_title='ELO Rating')\n",
    "fig.show()"
   ]
  },
  {
   "cell_type": "code",
   "execution_count": 34,
   "metadata": {},
   "outputs": [
    {
     "data": {
      "application/vnd.plotly.v1+json": {
       "config": {
        "plotlyServerURL": "https://plot.ly"
       },
       "data": [
        {
         "mode": "lines+markers",
         "name": "GSW League Ranking",
         "type": "scatter",
         "x": [
          "01-01-2022",
          "01-02-2022",
          "01-03-2022",
          "01-04-2022",
          "01-05-2022",
          "01-11-2021",
          "01-12-2021",
          "02-01-2022",
          "02-02-2022",
          "02-03-2022",
          "02-04-2022",
          "02-05-2022",
          "02-06-2022",
          "02-11-2021",
          "02-12-2021",
          "03-01-2022",
          "03-02-2022",
          "03-03-2022",
          "03-04-2022",
          "03-05-2022",
          "03-11-2021",
          "03-12-2021",
          "04-01-2022",
          "04-02-2022",
          "04-03-2022",
          "04-05-2022",
          "04-11-2021",
          "04-12-2021",
          "05-01-2022",
          "05-02-2022",
          "05-03-2022",
          "05-04-2022",
          "05-06-2022",
          "05-11-2021",
          "05-12-2021",
          "06-01-2022",
          "06-02-2022",
          "06-03-2022",
          "06-04-2022",
          "06-05-2022",
          "06-11-2021",
          "06-12-2021",
          "07-01-2022",
          "07-02-2022",
          "07-03-2022",
          "07-04-2022",
          "07-05-2022",
          "07-11-2021",
          "07-12-2021",
          "08-01-2022",
          "08-02-2022",
          "08-03-2022",
          "08-04-2022",
          "08-05-2022",
          "08-06-2022",
          "08-11-2021",
          "08-12-2021",
          "09-01-2022",
          "09-02-2022",
          "09-03-2022",
          "09-04-2022",
          "09-05-2022",
          "09-11-2021",
          "09-12-2021",
          "10-01-2022",
          "10-02-2022",
          "10-03-2022",
          "10-04-2022",
          "10-05-2022",
          "10-06-2022",
          "10-11-2021",
          "10-12-2021",
          "11-01-2022",
          "11-02-2022",
          "11-03-2022",
          "11-05-2022",
          "11-11-2021",
          "11-12-2021",
          "12-01-2022",
          "12-02-2022",
          "12-03-2022",
          "12-04-2022",
          "12-05-2022",
          "12-11-2021",
          "12-12-2021",
          "13-01-2022",
          "13-02-2022",
          "13-03-2022",
          "13-04-2022",
          "13-05-2022",
          "13-06-2022",
          "13-11-2021",
          "13-12-2021",
          "14-01-2022",
          "14-02-2022",
          "14-03-2022",
          "14-11-2021",
          "14-12-2021",
          "15-01-2022",
          "15-02-2022",
          "15-03-2022",
          "15-04-2022",
          "15-05-2022",
          "15-11-2021",
          "15-12-2021",
          "16-01-2022",
          "16-02-2022",
          "16-03-2022",
          "16-04-2022",
          "16-06-2022",
          "16-11-2021",
          "16-12-2021",
          "17-01-2022",
          "17-02-2022",
          "17-03-2022",
          "17-04-2022",
          "17-05-2022",
          "17-11-2021",
          "17-12-2021",
          "18-01-2022",
          "18-03-2022",
          "18-04-2022",
          "18-05-2022",
          "18-11-2021",
          "18-12-2021",
          "19-01-2022",
          "19-03-2022",
          "19-04-2022",
          "19-05-2022",
          "19-10-2021",
          "19-11-2021",
          "19-12-2021",
          "20-01-2022",
          "20-03-2022",
          "20-04-2022",
          "20-05-2022",
          "20-10-2021",
          "20-11-2021",
          "20-12-2021",
          "21-01-2022",
          "21-03-2022",
          "21-04-2022",
          "21-05-2022",
          "21-10-2021",
          "21-11-2021",
          "21-12-2021",
          "22-01-2022",
          "22-03-2022",
          "22-04-2022",
          "22-05-2022",
          "22-10-2021",
          "22-11-2021",
          "22-12-2021",
          "23-01-2022",
          "23-03-2022",
          "23-04-2022",
          "23-05-2022",
          "23-10-2021",
          "23-11-2021",
          "23-12-2021",
          "24-01-2022",
          "24-02-2022",
          "24-03-2022",
          "24-04-2022",
          "24-05-2022",
          "24-10-2021",
          "24-11-2021",
          "25-01-2022",
          "25-02-2022",
          "25-03-2022",
          "25-04-2022",
          "25-05-2022",
          "25-10-2021",
          "25-12-2021",
          "26-01-2022",
          "26-02-2022",
          "26-03-2022",
          "26-04-2022",
          "26-05-2022",
          "26-10-2021",
          "26-11-2021",
          "26-12-2021",
          "27-01-2022",
          "27-02-2022",
          "27-03-2022",
          "27-04-2022",
          "27-05-2022",
          "27-10-2021",
          "27-11-2021",
          "27-12-2021",
          "28-01-2022",
          "28-02-2022",
          "28-03-2022",
          "28-04-2022",
          "28-10-2021",
          "28-11-2021",
          "28-12-2021",
          "29-01-2022",
          "29-03-2022",
          "29-04-2022",
          "29-05-2022",
          "29-10-2021",
          "29-11-2021",
          "29-12-2021",
          "30-01-2022",
          "30-03-2022",
          "30-10-2021",
          "30-11-2021",
          "30-12-2021",
          "31-01-2022",
          "31-03-2022",
          "31-10-2021",
          "31-12-2021"
         ],
         "y": [
          5,
          6,
          9,
          9,
          7,
          9,
          7,
          7,
          7,
          7,
          5,
          6,
          11,
          11,
          11,
          6,
          3,
          10,
          6,
          9,
          5,
          7,
          7,
          6,
          5,
          5,
          7,
          7,
          9,
          10,
          14,
          12,
          11,
          9,
          9,
          11,
          12,
          13,
          13,
          13,
          13,
          10,
          10,
          10,
          12,
          12,
          10,
          10,
          9,
          9,
          8,
          7,
          7,
          7,
          9,
          8,
          7,
          6,
          7,
          7,
          7,
          6,
          7,
          7,
          7,
          7,
          6,
          6,
          6,
          5,
          4,
          3,
          3,
          3,
          6,
          6,
          7,
          8,
          8,
          6,
          6,
          6,
          6,
          5,
          6,
          6,
          6,
          7,
          7,
          6,
          5,
          5,
          6,
          3,
          4,
          3,
          5,
          3,
          3,
          4,
          4,
          4,
          4,
          5,
          5,
          5,
          6,
          6,
          6,
          6,
          4,
          4,
          5,
          5,
          5,
          5,
          5,
          5,
          5,
          4,
          5,
          3,
          3,
          3,
          5,
          4,
          4,
          4,
          4,
          2,
          2,
          2,
          2,
          4,
          4,
          2,
          3,
          2,
          2,
          2,
          2,
          2,
          2,
          2,
          2,
          2,
          2,
          2,
          2,
          2,
          2,
          2,
          2,
          2,
          2,
          2,
          2,
          2,
          2,
          2,
          2,
          2,
          2,
          2,
          2,
          2,
          2,
          2,
          2,
          2,
          2,
          2,
          2,
          2,
          2,
          2,
          2,
          2,
          2,
          2,
          2,
          2,
          2,
          2,
          2,
          2,
          2,
          2,
          2,
          2,
          2,
          2,
          2,
          2,
          2,
          2,
          2,
          2,
          2,
          2,
          2,
          2,
          2,
          2,
          2,
          3,
          2,
          3,
          3,
          2,
          2,
          2,
          2
         ]
        }
       ],
       "layout": {
        "legend": {
         "title": {
          "text": "Trends"
         }
        },
        "template": {
         "data": {
          "bar": [
           {
            "error_x": {
             "color": "#2a3f5f"
            },
            "error_y": {
             "color": "#2a3f5f"
            },
            "marker": {
             "line": {
              "color": "#E5ECF6",
              "width": 0.5
             },
             "pattern": {
              "fillmode": "overlay",
              "size": 10,
              "solidity": 0.2
             }
            },
            "type": "bar"
           }
          ],
          "barpolar": [
           {
            "marker": {
             "line": {
              "color": "#E5ECF6",
              "width": 0.5
             },
             "pattern": {
              "fillmode": "overlay",
              "size": 10,
              "solidity": 0.2
             }
            },
            "type": "barpolar"
           }
          ],
          "carpet": [
           {
            "aaxis": {
             "endlinecolor": "#2a3f5f",
             "gridcolor": "white",
             "linecolor": "white",
             "minorgridcolor": "white",
             "startlinecolor": "#2a3f5f"
            },
            "baxis": {
             "endlinecolor": "#2a3f5f",
             "gridcolor": "white",
             "linecolor": "white",
             "minorgridcolor": "white",
             "startlinecolor": "#2a3f5f"
            },
            "type": "carpet"
           }
          ],
          "choropleth": [
           {
            "colorbar": {
             "outlinewidth": 0,
             "ticks": ""
            },
            "type": "choropleth"
           }
          ],
          "contour": [
           {
            "colorbar": {
             "outlinewidth": 0,
             "ticks": ""
            },
            "colorscale": [
             [
              0,
              "#0d0887"
             ],
             [
              0.1111111111111111,
              "#46039f"
             ],
             [
              0.2222222222222222,
              "#7201a8"
             ],
             [
              0.3333333333333333,
              "#9c179e"
             ],
             [
              0.4444444444444444,
              "#bd3786"
             ],
             [
              0.5555555555555556,
              "#d8576b"
             ],
             [
              0.6666666666666666,
              "#ed7953"
             ],
             [
              0.7777777777777778,
              "#fb9f3a"
             ],
             [
              0.8888888888888888,
              "#fdca26"
             ],
             [
              1,
              "#f0f921"
             ]
            ],
            "type": "contour"
           }
          ],
          "contourcarpet": [
           {
            "colorbar": {
             "outlinewidth": 0,
             "ticks": ""
            },
            "type": "contourcarpet"
           }
          ],
          "heatmap": [
           {
            "colorbar": {
             "outlinewidth": 0,
             "ticks": ""
            },
            "colorscale": [
             [
              0,
              "#0d0887"
             ],
             [
              0.1111111111111111,
              "#46039f"
             ],
             [
              0.2222222222222222,
              "#7201a8"
             ],
             [
              0.3333333333333333,
              "#9c179e"
             ],
             [
              0.4444444444444444,
              "#bd3786"
             ],
             [
              0.5555555555555556,
              "#d8576b"
             ],
             [
              0.6666666666666666,
              "#ed7953"
             ],
             [
              0.7777777777777778,
              "#fb9f3a"
             ],
             [
              0.8888888888888888,
              "#fdca26"
             ],
             [
              1,
              "#f0f921"
             ]
            ],
            "type": "heatmap"
           }
          ],
          "heatmapgl": [
           {
            "colorbar": {
             "outlinewidth": 0,
             "ticks": ""
            },
            "colorscale": [
             [
              0,
              "#0d0887"
             ],
             [
              0.1111111111111111,
              "#46039f"
             ],
             [
              0.2222222222222222,
              "#7201a8"
             ],
             [
              0.3333333333333333,
              "#9c179e"
             ],
             [
              0.4444444444444444,
              "#bd3786"
             ],
             [
              0.5555555555555556,
              "#d8576b"
             ],
             [
              0.6666666666666666,
              "#ed7953"
             ],
             [
              0.7777777777777778,
              "#fb9f3a"
             ],
             [
              0.8888888888888888,
              "#fdca26"
             ],
             [
              1,
              "#f0f921"
             ]
            ],
            "type": "heatmapgl"
           }
          ],
          "histogram": [
           {
            "marker": {
             "pattern": {
              "fillmode": "overlay",
              "size": 10,
              "solidity": 0.2
             }
            },
            "type": "histogram"
           }
          ],
          "histogram2d": [
           {
            "colorbar": {
             "outlinewidth": 0,
             "ticks": ""
            },
            "colorscale": [
             [
              0,
              "#0d0887"
             ],
             [
              0.1111111111111111,
              "#46039f"
             ],
             [
              0.2222222222222222,
              "#7201a8"
             ],
             [
              0.3333333333333333,
              "#9c179e"
             ],
             [
              0.4444444444444444,
              "#bd3786"
             ],
             [
              0.5555555555555556,
              "#d8576b"
             ],
             [
              0.6666666666666666,
              "#ed7953"
             ],
             [
              0.7777777777777778,
              "#fb9f3a"
             ],
             [
              0.8888888888888888,
              "#fdca26"
             ],
             [
              1,
              "#f0f921"
             ]
            ],
            "type": "histogram2d"
           }
          ],
          "histogram2dcontour": [
           {
            "colorbar": {
             "outlinewidth": 0,
             "ticks": ""
            },
            "colorscale": [
             [
              0,
              "#0d0887"
             ],
             [
              0.1111111111111111,
              "#46039f"
             ],
             [
              0.2222222222222222,
              "#7201a8"
             ],
             [
              0.3333333333333333,
              "#9c179e"
             ],
             [
              0.4444444444444444,
              "#bd3786"
             ],
             [
              0.5555555555555556,
              "#d8576b"
             ],
             [
              0.6666666666666666,
              "#ed7953"
             ],
             [
              0.7777777777777778,
              "#fb9f3a"
             ],
             [
              0.8888888888888888,
              "#fdca26"
             ],
             [
              1,
              "#f0f921"
             ]
            ],
            "type": "histogram2dcontour"
           }
          ],
          "mesh3d": [
           {
            "colorbar": {
             "outlinewidth": 0,
             "ticks": ""
            },
            "type": "mesh3d"
           }
          ],
          "parcoords": [
           {
            "line": {
             "colorbar": {
              "outlinewidth": 0,
              "ticks": ""
             }
            },
            "type": "parcoords"
           }
          ],
          "pie": [
           {
            "automargin": true,
            "type": "pie"
           }
          ],
          "scatter": [
           {
            "fillpattern": {
             "fillmode": "overlay",
             "size": 10,
             "solidity": 0.2
            },
            "type": "scatter"
           }
          ],
          "scatter3d": [
           {
            "line": {
             "colorbar": {
              "outlinewidth": 0,
              "ticks": ""
             }
            },
            "marker": {
             "colorbar": {
              "outlinewidth": 0,
              "ticks": ""
             }
            },
            "type": "scatter3d"
           }
          ],
          "scattercarpet": [
           {
            "marker": {
             "colorbar": {
              "outlinewidth": 0,
              "ticks": ""
             }
            },
            "type": "scattercarpet"
           }
          ],
          "scattergeo": [
           {
            "marker": {
             "colorbar": {
              "outlinewidth": 0,
              "ticks": ""
             }
            },
            "type": "scattergeo"
           }
          ],
          "scattergl": [
           {
            "marker": {
             "colorbar": {
              "outlinewidth": 0,
              "ticks": ""
             }
            },
            "type": "scattergl"
           }
          ],
          "scattermapbox": [
           {
            "marker": {
             "colorbar": {
              "outlinewidth": 0,
              "ticks": ""
             }
            },
            "type": "scattermapbox"
           }
          ],
          "scatterpolar": [
           {
            "marker": {
             "colorbar": {
              "outlinewidth": 0,
              "ticks": ""
             }
            },
            "type": "scatterpolar"
           }
          ],
          "scatterpolargl": [
           {
            "marker": {
             "colorbar": {
              "outlinewidth": 0,
              "ticks": ""
             }
            },
            "type": "scatterpolargl"
           }
          ],
          "scatterternary": [
           {
            "marker": {
             "colorbar": {
              "outlinewidth": 0,
              "ticks": ""
             }
            },
            "type": "scatterternary"
           }
          ],
          "surface": [
           {
            "colorbar": {
             "outlinewidth": 0,
             "ticks": ""
            },
            "colorscale": [
             [
              0,
              "#0d0887"
             ],
             [
              0.1111111111111111,
              "#46039f"
             ],
             [
              0.2222222222222222,
              "#7201a8"
             ],
             [
              0.3333333333333333,
              "#9c179e"
             ],
             [
              0.4444444444444444,
              "#bd3786"
             ],
             [
              0.5555555555555556,
              "#d8576b"
             ],
             [
              0.6666666666666666,
              "#ed7953"
             ],
             [
              0.7777777777777778,
              "#fb9f3a"
             ],
             [
              0.8888888888888888,
              "#fdca26"
             ],
             [
              1,
              "#f0f921"
             ]
            ],
            "type": "surface"
           }
          ],
          "table": [
           {
            "cells": {
             "fill": {
              "color": "#EBF0F8"
             },
             "line": {
              "color": "white"
             }
            },
            "header": {
             "fill": {
              "color": "#C8D4E3"
             },
             "line": {
              "color": "white"
             }
            },
            "type": "table"
           }
          ]
         },
         "layout": {
          "annotationdefaults": {
           "arrowcolor": "#2a3f5f",
           "arrowhead": 0,
           "arrowwidth": 1
          },
          "autotypenumbers": "strict",
          "coloraxis": {
           "colorbar": {
            "outlinewidth": 0,
            "ticks": ""
           }
          },
          "colorscale": {
           "diverging": [
            [
             0,
             "#8e0152"
            ],
            [
             0.1,
             "#c51b7d"
            ],
            [
             0.2,
             "#de77ae"
            ],
            [
             0.3,
             "#f1b6da"
            ],
            [
             0.4,
             "#fde0ef"
            ],
            [
             0.5,
             "#f7f7f7"
            ],
            [
             0.6,
             "#e6f5d0"
            ],
            [
             0.7,
             "#b8e186"
            ],
            [
             0.8,
             "#7fbc41"
            ],
            [
             0.9,
             "#4d9221"
            ],
            [
             1,
             "#276419"
            ]
           ],
           "sequential": [
            [
             0,
             "#0d0887"
            ],
            [
             0.1111111111111111,
             "#46039f"
            ],
            [
             0.2222222222222222,
             "#7201a8"
            ],
            [
             0.3333333333333333,
             "#9c179e"
            ],
            [
             0.4444444444444444,
             "#bd3786"
            ],
            [
             0.5555555555555556,
             "#d8576b"
            ],
            [
             0.6666666666666666,
             "#ed7953"
            ],
            [
             0.7777777777777778,
             "#fb9f3a"
            ],
            [
             0.8888888888888888,
             "#fdca26"
            ],
            [
             1,
             "#f0f921"
            ]
           ],
           "sequentialminus": [
            [
             0,
             "#0d0887"
            ],
            [
             0.1111111111111111,
             "#46039f"
            ],
            [
             0.2222222222222222,
             "#7201a8"
            ],
            [
             0.3333333333333333,
             "#9c179e"
            ],
            [
             0.4444444444444444,
             "#bd3786"
            ],
            [
             0.5555555555555556,
             "#d8576b"
            ],
            [
             0.6666666666666666,
             "#ed7953"
            ],
            [
             0.7777777777777778,
             "#fb9f3a"
            ],
            [
             0.8888888888888888,
             "#fdca26"
            ],
            [
             1,
             "#f0f921"
            ]
           ]
          },
          "colorway": [
           "#636efa",
           "#EF553B",
           "#00cc96",
           "#ab63fa",
           "#FFA15A",
           "#19d3f3",
           "#FF6692",
           "#B6E880",
           "#FF97FF",
           "#FECB52"
          ],
          "font": {
           "color": "#2a3f5f"
          },
          "geo": {
           "bgcolor": "white",
           "lakecolor": "white",
           "landcolor": "#E5ECF6",
           "showlakes": true,
           "showland": true,
           "subunitcolor": "white"
          },
          "hoverlabel": {
           "align": "left"
          },
          "hovermode": "closest",
          "mapbox": {
           "style": "light"
          },
          "paper_bgcolor": "white",
          "plot_bgcolor": "#E5ECF6",
          "polar": {
           "angularaxis": {
            "gridcolor": "white",
            "linecolor": "white",
            "ticks": ""
           },
           "bgcolor": "#E5ECF6",
           "radialaxis": {
            "gridcolor": "white",
            "linecolor": "white",
            "ticks": ""
           }
          },
          "scene": {
           "xaxis": {
            "backgroundcolor": "#E5ECF6",
            "gridcolor": "white",
            "gridwidth": 2,
            "linecolor": "white",
            "showbackground": true,
            "ticks": "",
            "zerolinecolor": "white"
           },
           "yaxis": {
            "backgroundcolor": "#E5ECF6",
            "gridcolor": "white",
            "gridwidth": 2,
            "linecolor": "white",
            "showbackground": true,
            "ticks": "",
            "zerolinecolor": "white"
           },
           "zaxis": {
            "backgroundcolor": "#E5ECF6",
            "gridcolor": "white",
            "gridwidth": 2,
            "linecolor": "white",
            "showbackground": true,
            "ticks": "",
            "zerolinecolor": "white"
           }
          },
          "shapedefaults": {
           "line": {
            "color": "#2a3f5f"
           }
          },
          "ternary": {
           "aaxis": {
            "gridcolor": "white",
            "linecolor": "white",
            "ticks": ""
           },
           "baxis": {
            "gridcolor": "white",
            "linecolor": "white",
            "ticks": ""
           },
           "bgcolor": "#E5ECF6",
           "caxis": {
            "gridcolor": "white",
            "linecolor": "white",
            "ticks": ""
           }
          },
          "title": {
           "x": 0.05
          },
          "xaxis": {
           "automargin": true,
           "gridcolor": "white",
           "linecolor": "white",
           "ticks": "",
           "title": {
            "standoff": 15
           },
           "zerolinecolor": "white",
           "zerolinewidth": 2
          },
          "yaxis": {
           "automargin": true,
           "gridcolor": "white",
           "linecolor": "white",
           "ticks": "",
           "title": {
            "standoff": 15
           },
           "zerolinecolor": "white",
           "zerolinewidth": 2
          }
         }
        },
        "title": {
         "text": "Golden State Warriors League Ranking Over Time"
        },
        "xaxis": {
         "title": {
          "text": "Date"
         }
        },
        "yaxis": {
         "autorange": "reversed",
         "title": {
          "text": "League Ranking"
         }
        }
       }
      }
     },
     "metadata": {},
     "output_type": "display_data"
    }
   ],
   "source": [
    "# To plot a graph illustrating GSW's ranking in the league by win/loss record, we need to:\n",
    "# 1. Calculate the win/loss record for all teams.\n",
    "# 2. Rank the teams by their win/loss record.\n",
    "# 3. Track GSW's rank over the course of the season.\n",
    "\n",
    "# Let's start by loading the NBA ELO data and preparing the win/loss record for all teams.\n",
    "\n",
    "import pandas as pd\n",
    "\n",
    "# Load the NBA ELO data\n",
    "elo_df = pd.read_csv('nba_elo_latest.csv')\n",
    "\n",
    "# Filter the dataset for the 2022 season.\n",
    "elo_2022_df = elo_df[elo_df['season'] == 2022]\n",
    "\n",
    "# Initialize a DataFrame to keep track of wins, losses, and win percentage for all teams.\n",
    "teams = elo_2022_df['home'].unique()\n",
    "team_stats = pd.DataFrame(index=teams, columns=['Wins', 'Losses', 'WinPct'])\n",
    "\n",
    "# Initially set Wins and Losses to 0.\n",
    "team_stats['Wins'] = 0\n",
    "team_stats['Losses'] = 0\n",
    "\n",
    "# Process each game and update the wins and losses.\n",
    "for i, row in elo_2022_df.iterrows():\n",
    "    # Determine the winner and loser of the game.\n",
    "    if row['home_score'] > row['away_score']:\n",
    "        winner, loser = row['home'], row['away']\n",
    "    else:\n",
    "        winner, loser = row['away'], row['home']\n",
    "    \n",
    "    # Update the team_stats DataFrame.\n",
    "    team_stats.loc[winner, 'Wins'] += 1\n",
    "    team_stats.loc[loser, 'Losses'] += 1\n",
    "\n",
    "# Calculate the win percentage for each team.\n",
    "team_stats['WinPct'] = team_stats['Wins'] / (team_stats['Wins'] + team_stats['Losses'])\n",
    "\n",
    "# Sort the teams by win percentage to get the rankings.\n",
    "team_stats_sorted = team_stats.sort_values(by='WinPct', ascending=False).reset_index()\n",
    "team_stats_sorted['Rank'] = range(1, len(team_stats_sorted) + 1)\n",
    "\n",
    "# Extract GSW's rankings over time.\n",
    "# For this, we need to calculate the rankings after each game, which requires iterating over each game date.\n",
    "gsw_rankings_over_time = []\n",
    "dates = elo_2022_df['date'].sort_values().unique()\n",
    "\n",
    "for date in dates:\n",
    "    # Filter the games up to the current date.\n",
    "    games_up_to_date = elo_2022_df[elo_2022_df['date'] <= date]\n",
    "    \n",
    "    # Update team_stats for each team up to the current date.\n",
    "    team_stats_up_to_date = team_stats.copy()\n",
    "    for team in teams:\n",
    "        team_games = games_up_to_date[(games_up_to_date['home'] == team) | (games_up_to_date['away'] == team)]\n",
    "        wins = team_games.apply(lambda x: x['home'] == team and x['home_score'] > x['away_score'] or\n",
    "                                            x['away'] == team and x['away_score'] > x['home_score'], axis=1).sum()\n",
    "        losses = len(team_games) - wins\n",
    "        team_stats_up_to_date.loc[team, 'Wins'] = wins\n",
    "        team_stats_up_to_date.loc[team, 'Losses'] = losses\n",
    "        team_stats_up_to_date.loc[team, 'WinPct'] = wins / (wins + losses) if (wins + losses) > 0 else 0\n",
    "    \n",
    "    # Sort the teams by win percentage to get the rankings up to the current date.\n",
    "    team_stats_up_to_date_sorted = team_stats_up_to_date.sort_values(by='WinPct', ascending=False).reset_index()\n",
    "    team_stats_up_to_date_sorted['Rank'] = range(1, len(team_stats_up_to_date_sorted) + 1)\n",
    "    \n",
    "    # Get GSW's rank on the current date and append it to the list.\n",
    "    gsw_rank = team_stats_up_to_date_sorted[team_stats_up_to_date_sorted['index'] == 'GSW']['Rank'].values[0]\n",
    "    gsw_rankings_over_time.append((date, gsw_rank))\n",
    "\n",
    "# Convert the rankings over time to a DataFrame for plotting.\n",
    "gsw_rankings_df = pd.DataFrame(gsw_rankings_over_time, columns=['Date', 'Rank'])\n",
    "\n",
    "# Now let's plot the graph using Plotly.\n",
    "import plotly.graph_objects as go\n",
    "\n",
    "# Create the figure\n",
    "fig = go.Figure()\n",
    "\n",
    "# Add the ranking trend line for GSW\n",
    "fig.add_trace(\n",
    "    go.Scatter(\n",
    "        x=gsw_rankings_df['Date'],\n",
    "        y=gsw_rankings_df['Rank'],\n",
    "        mode='lines+markers',\n",
    "        name='GSW League Ranking'\n",
    "    )\n",
    ")\n",
    "\n",
    "# Update the layout to add titles and axis labels\n",
    "fig.update_layout(\n",
    "    title='Golden State Warriors League Ranking Over Time',\n",
    "    xaxis_title='Date',\n",
    "    yaxis_title='League Ranking',\n",
    "    yaxis_autorange='reversed',  # Reverse the y-axis so that a lower rank is higher on the graph.\n",
    "    legend_title='Trends'\n",
    ")\n",
    "\n",
    "# Display the graph\n",
    "fig.show()\n"
   ]
  }
 ],
 "metadata": {
  "kernelspec": {
   "display_name": "Python 3",
   "language": "python",
   "name": "python3"
  },
  "language_info": {
   "codemirror_mode": {
    "name": "ipython",
    "version": 3
   },
   "file_extension": ".py",
   "mimetype": "text/x-python",
   "name": "python",
   "nbconvert_exporter": "python",
   "pygments_lexer": "ipython3",
   "version": "3.8.7"
  }
 },
 "nbformat": 4,
 "nbformat_minor": 2
}
